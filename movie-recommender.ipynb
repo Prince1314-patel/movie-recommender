{
 "cells": [
  {
   "cell_type": "code",
   "execution_count": 1,
   "metadata": {
    "execution": {
     "iopub.execute_input": "2022-12-07T16:29:59.681032Z",
     "iopub.status.busy": "2022-12-07T16:29:59.680552Z",
     "iopub.status.idle": "2022-12-07T16:30:00.585777Z",
     "shell.execute_reply": "2022-12-07T16:30:00.584661Z",
     "shell.execute_reply.started": "2022-12-07T16:29:59.680943Z"
    }
   },
   "outputs": [],
   "source": [
    "import pandas as pd\n",
    "import numpy as np\n",
    "\n",
    "# warnings \n",
    "import warnings\n",
    "warnings.filterwarnings('ignore')\n",
    "\n",
    "\n",
    "# sklearn\n",
    "from sklearn.cluster import DBSCAN\n",
    "from sklearn.metrics import silhouette_samples, silhouette_score\n",
    "from sklearn.preprocessing import OneHotEncoder, MinMaxScaler"
   ]
  },
  {
   "cell_type": "markdown",
   "metadata": {},
   "source": [
    "# Step 1: Data imports"
   ]
  },
  {
   "cell_type": "code",
   "execution_count": 2,
   "metadata": {
    "execution": {
     "iopub.execute_input": "2022-12-07T16:30:00.588220Z",
     "iopub.status.busy": "2022-12-07T16:30:00.587883Z",
     "iopub.status.idle": "2022-12-07T16:30:00.870705Z",
     "shell.execute_reply": "2022-12-07T16:30:00.869841Z",
     "shell.execute_reply.started": "2022-12-07T16:30:00.588190Z"
    }
   },
   "outputs": [],
   "source": [
    "df_netflix = pd.read_csv('netflix/titles.csv')\n",
    "df_amazon =  pd.read_csv('amazonprimezip/titles.csv')\n",
    "df_hbo =  pd.read_csv('hbomaxzip/titles.csv')"
   ]
  },
  {
   "cell_type": "code",
   "execution_count": 3,
   "metadata": {
    "execution": {
     "iopub.execute_input": "2022-12-07T16:30:00.872552Z",
     "iopub.status.busy": "2022-12-07T16:30:00.871771Z",
     "iopub.status.idle": "2022-12-07T16:30:00.891413Z",
     "shell.execute_reply": "2022-12-07T16:30:00.890500Z",
     "shell.execute_reply.started": "2022-12-07T16:30:00.872520Z"
    }
   },
   "outputs": [],
   "source": [
    "df = pd.concat([df_netflix, df_amazon, df_hbo], axis=0)"
   ]
  },
  {
   "cell_type": "code",
   "execution_count": 4,
   "metadata": {},
   "outputs": [
    {
     "data": {
      "text/html": [
       "<div>\n",
       "<style scoped>\n",
       "    .dataframe tbody tr th:only-of-type {\n",
       "        vertical-align: middle;\n",
       "    }\n",
       "\n",
       "    .dataframe tbody tr th {\n",
       "        vertical-align: top;\n",
       "    }\n",
       "\n",
       "    .dataframe thead th {\n",
       "        text-align: right;\n",
       "    }\n",
       "</style>\n",
       "<table border=\"1\" class=\"dataframe\">\n",
       "  <thead>\n",
       "    <tr style=\"text-align: right;\">\n",
       "      <th></th>\n",
       "      <th>id</th>\n",
       "      <th>title</th>\n",
       "      <th>type</th>\n",
       "      <th>description</th>\n",
       "      <th>release_year</th>\n",
       "      <th>age_certification</th>\n",
       "      <th>runtime</th>\n",
       "      <th>genres</th>\n",
       "      <th>production_countries</th>\n",
       "      <th>seasons</th>\n",
       "      <th>imdb_id</th>\n",
       "      <th>imdb_score</th>\n",
       "      <th>imdb_votes</th>\n",
       "      <th>tmdb_popularity</th>\n",
       "      <th>tmdb_score</th>\n",
       "    </tr>\n",
       "  </thead>\n",
       "  <tbody>\n",
       "    <tr>\n",
       "      <th>0</th>\n",
       "      <td>ts300399</td>\n",
       "      <td>Five Came Back: The Reference Films</td>\n",
       "      <td>SHOW</td>\n",
       "      <td>This collection includes 12 World War II-era p...</td>\n",
       "      <td>1945</td>\n",
       "      <td>TV-MA</td>\n",
       "      <td>51</td>\n",
       "      <td>['documentation']</td>\n",
       "      <td>['US']</td>\n",
       "      <td>1.0</td>\n",
       "      <td>NaN</td>\n",
       "      <td>NaN</td>\n",
       "      <td>NaN</td>\n",
       "      <td>0.600</td>\n",
       "      <td>NaN</td>\n",
       "    </tr>\n",
       "    <tr>\n",
       "      <th>1</th>\n",
       "      <td>tm84618</td>\n",
       "      <td>Taxi Driver</td>\n",
       "      <td>MOVIE</td>\n",
       "      <td>A mentally unstable Vietnam War veteran works ...</td>\n",
       "      <td>1976</td>\n",
       "      <td>R</td>\n",
       "      <td>114</td>\n",
       "      <td>['drama', 'crime']</td>\n",
       "      <td>['US']</td>\n",
       "      <td>NaN</td>\n",
       "      <td>tt0075314</td>\n",
       "      <td>8.2</td>\n",
       "      <td>808582.0</td>\n",
       "      <td>40.965</td>\n",
       "      <td>8.179</td>\n",
       "    </tr>\n",
       "    <tr>\n",
       "      <th>2</th>\n",
       "      <td>tm154986</td>\n",
       "      <td>Deliverance</td>\n",
       "      <td>MOVIE</td>\n",
       "      <td>Intent on seeing the Cahulawassee River before...</td>\n",
       "      <td>1972</td>\n",
       "      <td>R</td>\n",
       "      <td>109</td>\n",
       "      <td>['drama', 'action', 'thriller', 'european']</td>\n",
       "      <td>['US']</td>\n",
       "      <td>NaN</td>\n",
       "      <td>tt0068473</td>\n",
       "      <td>7.7</td>\n",
       "      <td>107673.0</td>\n",
       "      <td>10.010</td>\n",
       "      <td>7.300</td>\n",
       "    </tr>\n",
       "    <tr>\n",
       "      <th>3</th>\n",
       "      <td>tm127384</td>\n",
       "      <td>Monty Python and the Holy Grail</td>\n",
       "      <td>MOVIE</td>\n",
       "      <td>King Arthur, accompanied by his squire, recrui...</td>\n",
       "      <td>1975</td>\n",
       "      <td>PG</td>\n",
       "      <td>91</td>\n",
       "      <td>['fantasy', 'action', 'comedy']</td>\n",
       "      <td>['GB']</td>\n",
       "      <td>NaN</td>\n",
       "      <td>tt0071853</td>\n",
       "      <td>8.2</td>\n",
       "      <td>534486.0</td>\n",
       "      <td>15.461</td>\n",
       "      <td>7.811</td>\n",
       "    </tr>\n",
       "    <tr>\n",
       "      <th>4</th>\n",
       "      <td>tm120801</td>\n",
       "      <td>The Dirty Dozen</td>\n",
       "      <td>MOVIE</td>\n",
       "      <td>12 American military prisoners in World War II...</td>\n",
       "      <td>1967</td>\n",
       "      <td>NaN</td>\n",
       "      <td>150</td>\n",
       "      <td>['war', 'action']</td>\n",
       "      <td>['GB', 'US']</td>\n",
       "      <td>NaN</td>\n",
       "      <td>tt0061578</td>\n",
       "      <td>7.7</td>\n",
       "      <td>72662.0</td>\n",
       "      <td>20.398</td>\n",
       "      <td>7.600</td>\n",
       "    </tr>\n",
       "  </tbody>\n",
       "</table>\n",
       "</div>"
      ],
      "text/plain": [
       "         id                                title   type  \\\n",
       "0  ts300399  Five Came Back: The Reference Films   SHOW   \n",
       "1   tm84618                          Taxi Driver  MOVIE   \n",
       "2  tm154986                          Deliverance  MOVIE   \n",
       "3  tm127384      Monty Python and the Holy Grail  MOVIE   \n",
       "4  tm120801                      The Dirty Dozen  MOVIE   \n",
       "\n",
       "                                         description  release_year  \\\n",
       "0  This collection includes 12 World War II-era p...          1945   \n",
       "1  A mentally unstable Vietnam War veteran works ...          1976   \n",
       "2  Intent on seeing the Cahulawassee River before...          1972   \n",
       "3  King Arthur, accompanied by his squire, recrui...          1975   \n",
       "4  12 American military prisoners in World War II...          1967   \n",
       "\n",
       "  age_certification  runtime                                       genres  \\\n",
       "0             TV-MA       51                            ['documentation']   \n",
       "1                 R      114                           ['drama', 'crime']   \n",
       "2                 R      109  ['drama', 'action', 'thriller', 'european']   \n",
       "3                PG       91              ['fantasy', 'action', 'comedy']   \n",
       "4               NaN      150                            ['war', 'action']   \n",
       "\n",
       "  production_countries  seasons    imdb_id  imdb_score  imdb_votes  \\\n",
       "0               ['US']      1.0        NaN         NaN         NaN   \n",
       "1               ['US']      NaN  tt0075314         8.2    808582.0   \n",
       "2               ['US']      NaN  tt0068473         7.7    107673.0   \n",
       "3               ['GB']      NaN  tt0071853         8.2    534486.0   \n",
       "4         ['GB', 'US']      NaN  tt0061578         7.7     72662.0   \n",
       "\n",
       "   tmdb_popularity  tmdb_score  \n",
       "0            0.600         NaN  \n",
       "1           40.965       8.179  \n",
       "2           10.010       7.300  \n",
       "3           15.461       7.811  \n",
       "4           20.398       7.600  "
      ]
     },
     "execution_count": 4,
     "metadata": {},
     "output_type": "execute_result"
    }
   ],
   "source": [
    "df.head()"
   ]
  },
  {
   "cell_type": "markdown",
   "metadata": {},
   "source": [
    "# Step 3: Data Cleaning and Preprocessing"
   ]
  },
  {
   "cell_type": "code",
   "execution_count": 5,
   "metadata": {},
   "outputs": [],
   "source": [
    "df_movies = df.drop_duplicates()"
   ]
  },
  {
   "cell_type": "code",
   "execution_count": 6,
   "metadata": {},
   "outputs": [],
   "source": [
    "# Drop unnecessary columns\n",
    "df_movies.drop(['description', 'age_certification'], axis=1, inplace=True)"
   ]
  },
  {
   "cell_type": "markdown",
   "metadata": {},
   "source": [
    "##### working with production_countries column"
   ]
  },
  {
   "cell_type": "code",
   "execution_count": 7,
   "metadata": {},
   "outputs": [
    {
     "data": {
      "text/plain": [
       "0             ['US']\n",
       "1             ['US']\n",
       "2             ['US']\n",
       "3             ['GB']\n",
       "4       ['GB', 'US']\n",
       "            ...     \n",
       "3289          ['PR']\n",
       "3290          ['PA']\n",
       "3291              []\n",
       "3292              []\n",
       "3293          ['US']\n",
       "Name: production_countries, Length: 19015, dtype: object"
      ]
     },
     "execution_count": 7,
     "metadata": {},
     "output_type": "execute_result"
    }
   ],
   "source": [
    "df['production_countries']"
   ]
  },
  {
   "cell_type": "code",
   "execution_count": 8,
   "metadata": {},
   "outputs": [],
   "source": [
    "\n",
    "# 1. Remove unwanted characters from the 'production_countries' column\n",
    "df_movies['production_countries'] = df_movies['production_countries'].str.replace(r\"\\[\", '', regex=True).str.replace(r\"'\", '', regex=True).str.replace(r\"\\]\", '', regex=True)\n",
    "\n",
    "# 2. Extract the first country from the cleaned 'production_countries' column\n",
    "df_movies['lead_prod_country'] = df_movies['production_countries'].str.split(',').str[0]\n",
    "\n",
    "# 3. Calculate the number of countries involved in the production of each movie\n",
    "df_movies['prod_countries_cnt'] = df_movies['production_countries'].str.split(',').str.len()\n",
    "\n",
    "# 4. Replace any empty values in the 'lead_prod_country' column with NaN (Not a Number)\n",
    "df_movies['lead_prod_country'] = df_movies['lead_prod_country'].replace('', np.nan)\n"
   ]
  },
  {
   "cell_type": "code",
   "execution_count": 9,
   "metadata": {},
   "outputs": [
    {
     "data": {
      "text/plain": [
       "lead_prod_country\n",
       "US    9277\n",
       "IN    1683\n",
       "GB    1307\n",
       "CA     655\n",
       "JP     596\n",
       "      ... \n",
       "NA       1\n",
       "NP       1\n",
       "GT       1\n",
       "KG       1\n",
       "RW       1\n",
       "Name: count, Length: 125, dtype: int64"
      ]
     },
     "execution_count": 9,
     "metadata": {},
     "output_type": "execute_result"
    }
   ],
   "source": [
    "df_movies['lead_prod_country'].value_counts()"
   ]
  },
  {
   "cell_type": "markdown",
   "metadata": {},
   "source": [
    "##### Working with genres"
   ]
  },
  {
   "cell_type": "code",
   "execution_count": 10,
   "metadata": {},
   "outputs": [
    {
     "data": {
      "text/plain": [
       "0                                 ['documentation']\n",
       "1                                ['drama', 'crime']\n",
       "2       ['drama', 'action', 'thriller', 'european']\n",
       "3                   ['fantasy', 'action', 'comedy']\n",
       "4                                 ['war', 'action']\n",
       "                           ...                     \n",
       "3289                           ['romance', 'music']\n",
       "3290                                     ['comedy']\n",
       "3291                                     ['comedy']\n",
       "3292                                     ['comedy']\n",
       "3293                              ['documentation']\n",
       "Name: genres, Length: 18980, dtype: object"
      ]
     },
     "execution_count": 10,
     "metadata": {},
     "output_type": "execute_result"
    }
   ],
   "source": [
    "df_movies['genres']"
   ]
  },
  {
   "cell_type": "code",
   "execution_count": 11,
   "metadata": {},
   "outputs": [],
   "source": [
    "# 1. Remove unwanted characters from the 'genres' column\n",
    "df_movies['genres'] = df_movies['genres'].str.replace(r\"\\[\", '', regex=True).str.replace(r\"'\", '', regex=True).str.replace(r\"\\]\", '', regex=True)\n",
    "\n",
    "# 2. Extract the first genre from the cleaned 'genres' column\n",
    "df_movies['main_genre'] = df_movies['genres'].str.split(',').str[0]\n",
    "\n",
    "# . Replace any empty values in the 'main_genre' column with NaN (Not a Number)\n",
    "df_movies['main_genre'] = df_movies['main_genre'].replace('', np.nan)"
   ]
  },
  {
   "cell_type": "code",
   "execution_count": 12,
   "metadata": {},
   "outputs": [
    {
     "data": {
      "text/plain": [
       "main_genre\n",
       "drama            4786\n",
       "comedy           3513\n",
       "documentation    1985\n",
       "thriller         1737\n",
       "action           1012\n",
       "romance           862\n",
       "horror            792\n",
       "scifi             753\n",
       "crime             648\n",
       "animation         646\n",
       "western           465\n",
       "fantasy           447\n",
       "reality           325\n",
       "family            270\n",
       "music             185\n",
       "war               111\n",
       "history            88\n",
       "sport              26\n",
       "european            8\n",
       "Name: count, dtype: int64"
      ]
     },
     "execution_count": 12,
     "metadata": {},
     "output_type": "execute_result"
    }
   ],
   "source": [
    "df_movies['main_genre'].value_counts()"
   ]
  },
  {
   "cell_type": "code",
   "execution_count": 13,
   "metadata": {},
   "outputs": [],
   "source": [
    "#  Drop unnecessary columns 'genres' and 'production_countries' from the DataFrame\n",
    "df_movies.drop(['genres', 'production_countries'], axis=1, inplace=True)"
   ]
  },
  {
   "cell_type": "markdown",
   "metadata": {},
   "source": [
    "### drop missing values"
   ]
  },
  {
   "cell_type": "code",
   "execution_count": 14,
   "metadata": {},
   "outputs": [
    {
     "data": {
      "text/plain": [
       "(18980, 14)"
      ]
     },
     "execution_count": 14,
     "metadata": {},
     "output_type": "execute_result"
    }
   ],
   "source": [
    "df_movies.shape"
   ]
  },
  {
   "cell_type": "code",
   "execution_count": 15,
   "metadata": {},
   "outputs": [
    {
     "data": {
      "text/plain": [
       "id                        0\n",
       "title                     1\n",
       "type                      0\n",
       "release_year              0\n",
       "runtime                   0\n",
       "seasons               14772\n",
       "imdb_id                1394\n",
       "imdb_score             1873\n",
       "imdb_votes             1910\n",
       "tmdb_popularity         670\n",
       "tmdb_score             2656\n",
       "lead_prod_country      1160\n",
       "prod_countries_cnt        0\n",
       "main_genre              321\n",
       "dtype: int64"
      ]
     },
     "execution_count": 15,
     "metadata": {},
     "output_type": "execute_result"
    }
   ],
   "source": [
    "df_movies.isnull().sum()"
   ]
  },
  {
   "cell_type": "code",
   "execution_count": 16,
   "metadata": {},
   "outputs": [],
   "source": [
    "# drop season column\n",
    "df_movies.drop(columns=['seasons'], axis=1, inplace = True)"
   ]
  },
  {
   "cell_type": "code",
   "execution_count": 17,
   "metadata": {},
   "outputs": [
    {
     "data": {
      "text/html": [
       "<div>\n",
       "<style scoped>\n",
       "    .dataframe tbody tr th:only-of-type {\n",
       "        vertical-align: middle;\n",
       "    }\n",
       "\n",
       "    .dataframe tbody tr th {\n",
       "        vertical-align: top;\n",
       "    }\n",
       "\n",
       "    .dataframe thead th {\n",
       "        text-align: right;\n",
       "    }\n",
       "</style>\n",
       "<table border=\"1\" class=\"dataframe\">\n",
       "  <thead>\n",
       "    <tr style=\"text-align: right;\">\n",
       "      <th></th>\n",
       "      <th>id</th>\n",
       "      <th>title</th>\n",
       "      <th>type</th>\n",
       "      <th>release_year</th>\n",
       "      <th>runtime</th>\n",
       "      <th>imdb_id</th>\n",
       "      <th>imdb_score</th>\n",
       "      <th>imdb_votes</th>\n",
       "      <th>tmdb_popularity</th>\n",
       "      <th>tmdb_score</th>\n",
       "      <th>lead_prod_country</th>\n",
       "      <th>prod_countries_cnt</th>\n",
       "      <th>main_genre</th>\n",
       "    </tr>\n",
       "  </thead>\n",
       "  <tbody>\n",
       "    <tr>\n",
       "      <th>0</th>\n",
       "      <td>ts300399</td>\n",
       "      <td>Five Came Back: The Reference Films</td>\n",
       "      <td>SHOW</td>\n",
       "      <td>1945</td>\n",
       "      <td>51</td>\n",
       "      <td>NaN</td>\n",
       "      <td>NaN</td>\n",
       "      <td>NaN</td>\n",
       "      <td>0.600</td>\n",
       "      <td>NaN</td>\n",
       "      <td>US</td>\n",
       "      <td>1</td>\n",
       "      <td>documentation</td>\n",
       "    </tr>\n",
       "    <tr>\n",
       "      <th>1</th>\n",
       "      <td>tm84618</td>\n",
       "      <td>Taxi Driver</td>\n",
       "      <td>MOVIE</td>\n",
       "      <td>1976</td>\n",
       "      <td>114</td>\n",
       "      <td>tt0075314</td>\n",
       "      <td>8.2</td>\n",
       "      <td>808582.0</td>\n",
       "      <td>40.965</td>\n",
       "      <td>8.179</td>\n",
       "      <td>US</td>\n",
       "      <td>1</td>\n",
       "      <td>drama</td>\n",
       "    </tr>\n",
       "    <tr>\n",
       "      <th>2</th>\n",
       "      <td>tm154986</td>\n",
       "      <td>Deliverance</td>\n",
       "      <td>MOVIE</td>\n",
       "      <td>1972</td>\n",
       "      <td>109</td>\n",
       "      <td>tt0068473</td>\n",
       "      <td>7.7</td>\n",
       "      <td>107673.0</td>\n",
       "      <td>10.010</td>\n",
       "      <td>7.300</td>\n",
       "      <td>US</td>\n",
       "      <td>1</td>\n",
       "      <td>drama</td>\n",
       "    </tr>\n",
       "    <tr>\n",
       "      <th>3</th>\n",
       "      <td>tm127384</td>\n",
       "      <td>Monty Python and the Holy Grail</td>\n",
       "      <td>MOVIE</td>\n",
       "      <td>1975</td>\n",
       "      <td>91</td>\n",
       "      <td>tt0071853</td>\n",
       "      <td>8.2</td>\n",
       "      <td>534486.0</td>\n",
       "      <td>15.461</td>\n",
       "      <td>7.811</td>\n",
       "      <td>GB</td>\n",
       "      <td>1</td>\n",
       "      <td>fantasy</td>\n",
       "    </tr>\n",
       "    <tr>\n",
       "      <th>4</th>\n",
       "      <td>tm120801</td>\n",
       "      <td>The Dirty Dozen</td>\n",
       "      <td>MOVIE</td>\n",
       "      <td>1967</td>\n",
       "      <td>150</td>\n",
       "      <td>tt0061578</td>\n",
       "      <td>7.7</td>\n",
       "      <td>72662.0</td>\n",
       "      <td>20.398</td>\n",
       "      <td>7.600</td>\n",
       "      <td>GB</td>\n",
       "      <td>2</td>\n",
       "      <td>war</td>\n",
       "    </tr>\n",
       "  </tbody>\n",
       "</table>\n",
       "</div>"
      ],
      "text/plain": [
       "         id                                title   type  release_year  \\\n",
       "0  ts300399  Five Came Back: The Reference Films   SHOW          1945   \n",
       "1   tm84618                          Taxi Driver  MOVIE          1976   \n",
       "2  tm154986                          Deliverance  MOVIE          1972   \n",
       "3  tm127384      Monty Python and the Holy Grail  MOVIE          1975   \n",
       "4  tm120801                      The Dirty Dozen  MOVIE          1967   \n",
       "\n",
       "   runtime    imdb_id  imdb_score  imdb_votes  tmdb_popularity  tmdb_score  \\\n",
       "0       51        NaN         NaN         NaN            0.600         NaN   \n",
       "1      114  tt0075314         8.2    808582.0           40.965       8.179   \n",
       "2      109  tt0068473         7.7    107673.0           10.010       7.300   \n",
       "3       91  tt0071853         8.2    534486.0           15.461       7.811   \n",
       "4      150  tt0061578         7.7     72662.0           20.398       7.600   \n",
       "\n",
       "  lead_prod_country  prod_countries_cnt     main_genre  \n",
       "0                US                   1  documentation  \n",
       "1                US                   1          drama  \n",
       "2                US                   1          drama  \n",
       "3                GB                   1        fantasy  \n",
       "4                GB                   2            war  "
      ]
     },
     "execution_count": 17,
     "metadata": {},
     "output_type": "execute_result"
    }
   ],
   "source": [
    "df_movies.head()"
   ]
  },
  {
   "cell_type": "code",
   "execution_count": 18,
   "metadata": {},
   "outputs": [
    {
     "data": {
      "text/plain": [
       "id                       0\n",
       "title                    1\n",
       "type                     0\n",
       "release_year             0\n",
       "runtime                  0\n",
       "imdb_id               1394\n",
       "imdb_score            1873\n",
       "imdb_votes            1910\n",
       "tmdb_popularity        670\n",
       "tmdb_score            2656\n",
       "lead_prod_country     1160\n",
       "prod_countries_cnt       0\n",
       "main_genre             321\n",
       "dtype: int64"
      ]
     },
     "execution_count": 18,
     "metadata": {},
     "output_type": "execute_result"
    }
   ],
   "source": [
    "df_movies.isnull().sum()"
   ]
  },
  {
   "cell_type": "code",
   "execution_count": 19,
   "metadata": {},
   "outputs": [],
   "source": [
    "# Drop rows with any missing values to clean the dataset\n",
    "df_movies.dropna(inplace=True)\n",
    "\n",
    "# Set the 'title' column as the DataFrame index\n",
    "df_movies.set_index('title', inplace=True)\n",
    "\n",
    "# Drop the 'id' and 'imdb_id' columns as they are not needed for further analysis\n",
    "df_movies.drop(['id', 'imdb_id'], axis=1, inplace=True)\n"
   ]
  },
  {
   "cell_type": "code",
   "execution_count": 20,
   "metadata": {},
   "outputs": [
    {
     "data": {
      "text/plain": [
       "(14855, 10)"
      ]
     },
     "execution_count": 20,
     "metadata": {},
     "output_type": "execute_result"
    }
   ],
   "source": [
    "df_movies.shape"
   ]
  },
  {
   "cell_type": "markdown",
   "metadata": {},
   "source": [
    "# Encoding Categorical Features:"
   ]
  },
  {
   "cell_type": "code",
   "execution_count": 21,
   "metadata": {},
   "outputs": [],
   "source": [
    "# Create dummy variables for categorical columns ('type', 'lead_prod_country', 'main_genre')\n",
    "dummies = pd.get_dummies(df_movies[['type', 'lead_prod_country', 'main_genre']], drop_first=True)\n",
    "\n",
    "# Concatenate the dummy variables with the original DataFrame\n",
    "df_movies_dum = pd.concat([df_movies, dummies], axis=1)\n",
    "\n",
    "# 14. Drop the original categorical columns after creating dummy variables\n",
    "df_movies_dum.drop(['type', 'lead_prod_country', 'main_genre'], axis=1, inplace=True)"
   ]
  },
  {
   "cell_type": "markdown",
   "metadata": {},
   "source": [
    "# Scaling (MinmaxScaler):"
   ]
  },
  {
   "cell_type": "code",
   "execution_count": 22,
   "metadata": {},
   "outputs": [
    {
     "data": {
      "text/html": [
       "<div>\n",
       "<style scoped>\n",
       "    .dataframe tbody tr th:only-of-type {\n",
       "        vertical-align: middle;\n",
       "    }\n",
       "\n",
       "    .dataframe tbody tr th {\n",
       "        vertical-align: top;\n",
       "    }\n",
       "\n",
       "    .dataframe thead th {\n",
       "        text-align: right;\n",
       "    }\n",
       "</style>\n",
       "<table border=\"1\" class=\"dataframe\">\n",
       "  <thead>\n",
       "    <tr style=\"text-align: right;\">\n",
       "      <th></th>\n",
       "      <th>release_year</th>\n",
       "      <th>runtime</th>\n",
       "      <th>imdb_score</th>\n",
       "      <th>imdb_votes</th>\n",
       "      <th>tmdb_popularity</th>\n",
       "      <th>tmdb_score</th>\n",
       "      <th>prod_countries_cnt</th>\n",
       "      <th>type_SHOW</th>\n",
       "      <th>lead_prod_country_AF</th>\n",
       "      <th>lead_prod_country_AL</th>\n",
       "      <th>...</th>\n",
       "      <th>main_genre_history</th>\n",
       "      <th>main_genre_horror</th>\n",
       "      <th>main_genre_music</th>\n",
       "      <th>main_genre_reality</th>\n",
       "      <th>main_genre_romance</th>\n",
       "      <th>main_genre_scifi</th>\n",
       "      <th>main_genre_sport</th>\n",
       "      <th>main_genre_thriller</th>\n",
       "      <th>main_genre_war</th>\n",
       "      <th>main_genre_western</th>\n",
       "    </tr>\n",
       "  </thead>\n",
       "  <tbody>\n",
       "    <tr>\n",
       "      <th>0</th>\n",
       "      <td>0.581818</td>\n",
       "      <td>0.347561</td>\n",
       "      <td>0.806818</td>\n",
       "      <td>0.316407</td>\n",
       "      <td>0.009210</td>\n",
       "      <td>0.802065</td>\n",
       "      <td>0.000000</td>\n",
       "      <td>0.0</td>\n",
       "      <td>0.0</td>\n",
       "      <td>0.0</td>\n",
       "      <td>...</td>\n",
       "      <td>0.0</td>\n",
       "      <td>0.0</td>\n",
       "      <td>0.0</td>\n",
       "      <td>0.0</td>\n",
       "      <td>0.0</td>\n",
       "      <td>0.0</td>\n",
       "      <td>0.0</td>\n",
       "      <td>0.0</td>\n",
       "      <td>0.0</td>\n",
       "      <td>0.0</td>\n",
       "    </tr>\n",
       "    <tr>\n",
       "      <th>1</th>\n",
       "      <td>0.545455</td>\n",
       "      <td>0.332317</td>\n",
       "      <td>0.750000</td>\n",
       "      <td>0.042132</td>\n",
       "      <td>0.002250</td>\n",
       "      <td>0.706522</td>\n",
       "      <td>0.000000</td>\n",
       "      <td>0.0</td>\n",
       "      <td>0.0</td>\n",
       "      <td>0.0</td>\n",
       "      <td>...</td>\n",
       "      <td>0.0</td>\n",
       "      <td>0.0</td>\n",
       "      <td>0.0</td>\n",
       "      <td>0.0</td>\n",
       "      <td>0.0</td>\n",
       "      <td>0.0</td>\n",
       "      <td>0.0</td>\n",
       "      <td>0.0</td>\n",
       "      <td>0.0</td>\n",
       "      <td>0.0</td>\n",
       "    </tr>\n",
       "    <tr>\n",
       "      <th>2</th>\n",
       "      <td>0.572727</td>\n",
       "      <td>0.277439</td>\n",
       "      <td>0.806818</td>\n",
       "      <td>0.209149</td>\n",
       "      <td>0.003476</td>\n",
       "      <td>0.762065</td>\n",
       "      <td>0.000000</td>\n",
       "      <td>0.0</td>\n",
       "      <td>0.0</td>\n",
       "      <td>0.0</td>\n",
       "      <td>...</td>\n",
       "      <td>0.0</td>\n",
       "      <td>0.0</td>\n",
       "      <td>0.0</td>\n",
       "      <td>0.0</td>\n",
       "      <td>0.0</td>\n",
       "      <td>0.0</td>\n",
       "      <td>0.0</td>\n",
       "      <td>0.0</td>\n",
       "      <td>0.0</td>\n",
       "      <td>0.0</td>\n",
       "    </tr>\n",
       "    <tr>\n",
       "      <th>3</th>\n",
       "      <td>0.500000</td>\n",
       "      <td>0.457317</td>\n",
       "      <td>0.750000</td>\n",
       "      <td>0.028432</td>\n",
       "      <td>0.004586</td>\n",
       "      <td>0.739130</td>\n",
       "      <td>0.142857</td>\n",
       "      <td>0.0</td>\n",
       "      <td>0.0</td>\n",
       "      <td>0.0</td>\n",
       "      <td>...</td>\n",
       "      <td>0.0</td>\n",
       "      <td>0.0</td>\n",
       "      <td>0.0</td>\n",
       "      <td>0.0</td>\n",
       "      <td>0.0</td>\n",
       "      <td>0.0</td>\n",
       "      <td>0.0</td>\n",
       "      <td>0.0</td>\n",
       "      <td>1.0</td>\n",
       "      <td>0.0</td>\n",
       "    </tr>\n",
       "    <tr>\n",
       "      <th>4</th>\n",
       "      <td>0.518182</td>\n",
       "      <td>0.091463</td>\n",
       "      <td>0.875000</td>\n",
       "      <td>0.028730</td>\n",
       "      <td>0.003961</td>\n",
       "      <td>0.815870</td>\n",
       "      <td>0.000000</td>\n",
       "      <td>1.0</td>\n",
       "      <td>0.0</td>\n",
       "      <td>0.0</td>\n",
       "      <td>...</td>\n",
       "      <td>0.0</td>\n",
       "      <td>0.0</td>\n",
       "      <td>0.0</td>\n",
       "      <td>0.0</td>\n",
       "      <td>0.0</td>\n",
       "      <td>0.0</td>\n",
       "      <td>0.0</td>\n",
       "      <td>0.0</td>\n",
       "      <td>0.0</td>\n",
       "      <td>0.0</td>\n",
       "    </tr>\n",
       "    <tr>\n",
       "      <th>...</th>\n",
       "      <td>...</td>\n",
       "      <td>...</td>\n",
       "      <td>...</td>\n",
       "      <td>...</td>\n",
       "      <td>...</td>\n",
       "      <td>...</td>\n",
       "      <td>...</td>\n",
       "      <td>...</td>\n",
       "      <td>...</td>\n",
       "      <td>...</td>\n",
       "      <td>...</td>\n",
       "      <td>...</td>\n",
       "      <td>...</td>\n",
       "      <td>...</td>\n",
       "      <td>...</td>\n",
       "      <td>...</td>\n",
       "      <td>...</td>\n",
       "      <td>...</td>\n",
       "      <td>...</td>\n",
       "      <td>...</td>\n",
       "      <td>...</td>\n",
       "    </tr>\n",
       "    <tr>\n",
       "      <th>14850</th>\n",
       "      <td>0.990909</td>\n",
       "      <td>0.121951</td>\n",
       "      <td>0.295455</td>\n",
       "      <td>0.000070</td>\n",
       "      <td>0.001286</td>\n",
       "      <td>0.554348</td>\n",
       "      <td>0.000000</td>\n",
       "      <td>0.0</td>\n",
       "      <td>0.0</td>\n",
       "      <td>0.0</td>\n",
       "      <td>...</td>\n",
       "      <td>0.0</td>\n",
       "      <td>0.0</td>\n",
       "      <td>0.0</td>\n",
       "      <td>0.0</td>\n",
       "      <td>0.0</td>\n",
       "      <td>0.0</td>\n",
       "      <td>0.0</td>\n",
       "      <td>0.0</td>\n",
       "      <td>0.0</td>\n",
       "      <td>0.0</td>\n",
       "    </tr>\n",
       "    <tr>\n",
       "      <th>14851</th>\n",
       "      <td>0.990909</td>\n",
       "      <td>0.323171</td>\n",
       "      <td>0.590909</td>\n",
       "      <td>0.000009</td>\n",
       "      <td>0.015724</td>\n",
       "      <td>0.554348</td>\n",
       "      <td>0.000000</td>\n",
       "      <td>0.0</td>\n",
       "      <td>0.0</td>\n",
       "      <td>0.0</td>\n",
       "      <td>...</td>\n",
       "      <td>0.0</td>\n",
       "      <td>0.0</td>\n",
       "      <td>0.0</td>\n",
       "      <td>0.0</td>\n",
       "      <td>0.0</td>\n",
       "      <td>0.0</td>\n",
       "      <td>0.0</td>\n",
       "      <td>0.0</td>\n",
       "      <td>0.0</td>\n",
       "      <td>0.0</td>\n",
       "    </tr>\n",
       "    <tr>\n",
       "      <th>14852</th>\n",
       "      <td>0.990909</td>\n",
       "      <td>0.079268</td>\n",
       "      <td>0.647727</td>\n",
       "      <td>0.000004</td>\n",
       "      <td>0.000223</td>\n",
       "      <td>1.000000</td>\n",
       "      <td>0.000000</td>\n",
       "      <td>0.0</td>\n",
       "      <td>0.0</td>\n",
       "      <td>0.0</td>\n",
       "      <td>...</td>\n",
       "      <td>0.0</td>\n",
       "      <td>0.0</td>\n",
       "      <td>0.0</td>\n",
       "      <td>0.0</td>\n",
       "      <td>0.0</td>\n",
       "      <td>0.0</td>\n",
       "      <td>0.0</td>\n",
       "      <td>0.0</td>\n",
       "      <td>0.0</td>\n",
       "      <td>0.0</td>\n",
       "    </tr>\n",
       "    <tr>\n",
       "      <th>14853</th>\n",
       "      <td>0.990909</td>\n",
       "      <td>0.176829</td>\n",
       "      <td>0.306818</td>\n",
       "      <td>0.000086</td>\n",
       "      <td>0.000539</td>\n",
       "      <td>0.500000</td>\n",
       "      <td>0.000000</td>\n",
       "      <td>0.0</td>\n",
       "      <td>0.0</td>\n",
       "      <td>0.0</td>\n",
       "      <td>...</td>\n",
       "      <td>0.0</td>\n",
       "      <td>0.0</td>\n",
       "      <td>0.0</td>\n",
       "      <td>0.0</td>\n",
       "      <td>0.0</td>\n",
       "      <td>0.0</td>\n",
       "      <td>0.0</td>\n",
       "      <td>0.0</td>\n",
       "      <td>0.0</td>\n",
       "      <td>0.0</td>\n",
       "    </tr>\n",
       "    <tr>\n",
       "      <th>14854</th>\n",
       "      <td>0.990909</td>\n",
       "      <td>0.274390</td>\n",
       "      <td>0.545455</td>\n",
       "      <td>0.000018</td>\n",
       "      <td>0.000315</td>\n",
       "      <td>0.130435</td>\n",
       "      <td>0.000000</td>\n",
       "      <td>0.0</td>\n",
       "      <td>0.0</td>\n",
       "      <td>0.0</td>\n",
       "      <td>...</td>\n",
       "      <td>0.0</td>\n",
       "      <td>0.0</td>\n",
       "      <td>0.0</td>\n",
       "      <td>0.0</td>\n",
       "      <td>0.0</td>\n",
       "      <td>0.0</td>\n",
       "      <td>0.0</td>\n",
       "      <td>0.0</td>\n",
       "      <td>0.0</td>\n",
       "      <td>0.0</td>\n",
       "    </tr>\n",
       "  </tbody>\n",
       "</table>\n",
       "<p>14855 rows × 145 columns</p>\n",
       "</div>"
      ],
      "text/plain": [
       "       release_year   runtime  imdb_score  imdb_votes  tmdb_popularity  \\\n",
       "0          0.581818  0.347561    0.806818    0.316407         0.009210   \n",
       "1          0.545455  0.332317    0.750000    0.042132         0.002250   \n",
       "2          0.572727  0.277439    0.806818    0.209149         0.003476   \n",
       "3          0.500000  0.457317    0.750000    0.028432         0.004586   \n",
       "4          0.518182  0.091463    0.875000    0.028730         0.003961   \n",
       "...             ...       ...         ...         ...              ...   \n",
       "14850      0.990909  0.121951    0.295455    0.000070         0.001286   \n",
       "14851      0.990909  0.323171    0.590909    0.000009         0.015724   \n",
       "14852      0.990909  0.079268    0.647727    0.000004         0.000223   \n",
       "14853      0.990909  0.176829    0.306818    0.000086         0.000539   \n",
       "14854      0.990909  0.274390    0.545455    0.000018         0.000315   \n",
       "\n",
       "       tmdb_score  prod_countries_cnt  type_SHOW  lead_prod_country_AF  \\\n",
       "0        0.802065            0.000000        0.0                   0.0   \n",
       "1        0.706522            0.000000        0.0                   0.0   \n",
       "2        0.762065            0.000000        0.0                   0.0   \n",
       "3        0.739130            0.142857        0.0                   0.0   \n",
       "4        0.815870            0.000000        1.0                   0.0   \n",
       "...           ...                 ...        ...                   ...   \n",
       "14850    0.554348            0.000000        0.0                   0.0   \n",
       "14851    0.554348            0.000000        0.0                   0.0   \n",
       "14852    1.000000            0.000000        0.0                   0.0   \n",
       "14853    0.500000            0.000000        0.0                   0.0   \n",
       "14854    0.130435            0.000000        0.0                   0.0   \n",
       "\n",
       "       lead_prod_country_AL  ...  main_genre_history  main_genre_horror  \\\n",
       "0                       0.0  ...                 0.0                0.0   \n",
       "1                       0.0  ...                 0.0                0.0   \n",
       "2                       0.0  ...                 0.0                0.0   \n",
       "3                       0.0  ...                 0.0                0.0   \n",
       "4                       0.0  ...                 0.0                0.0   \n",
       "...                     ...  ...                 ...                ...   \n",
       "14850                   0.0  ...                 0.0                0.0   \n",
       "14851                   0.0  ...                 0.0                0.0   \n",
       "14852                   0.0  ...                 0.0                0.0   \n",
       "14853                   0.0  ...                 0.0                0.0   \n",
       "14854                   0.0  ...                 0.0                0.0   \n",
       "\n",
       "       main_genre_music  main_genre_reality  main_genre_romance  \\\n",
       "0                   0.0                 0.0                 0.0   \n",
       "1                   0.0                 0.0                 0.0   \n",
       "2                   0.0                 0.0                 0.0   \n",
       "3                   0.0                 0.0                 0.0   \n",
       "4                   0.0                 0.0                 0.0   \n",
       "...                 ...                 ...                 ...   \n",
       "14850               0.0                 0.0                 0.0   \n",
       "14851               0.0                 0.0                 0.0   \n",
       "14852               0.0                 0.0                 0.0   \n",
       "14853               0.0                 0.0                 0.0   \n",
       "14854               0.0                 0.0                 0.0   \n",
       "\n",
       "       main_genre_scifi  main_genre_sport  main_genre_thriller  \\\n",
       "0                   0.0               0.0                  0.0   \n",
       "1                   0.0               0.0                  0.0   \n",
       "2                   0.0               0.0                  0.0   \n",
       "3                   0.0               0.0                  0.0   \n",
       "4                   0.0               0.0                  0.0   \n",
       "...                 ...               ...                  ...   \n",
       "14850               0.0               0.0                  0.0   \n",
       "14851               0.0               0.0                  0.0   \n",
       "14852               0.0               0.0                  0.0   \n",
       "14853               0.0               0.0                  0.0   \n",
       "14854               0.0               0.0                  0.0   \n",
       "\n",
       "       main_genre_war  main_genre_western  \n",
       "0                 0.0                 0.0  \n",
       "1                 0.0                 0.0  \n",
       "2                 0.0                 0.0  \n",
       "3                 1.0                 0.0  \n",
       "4                 0.0                 0.0  \n",
       "...               ...                 ...  \n",
       "14850             0.0                 0.0  \n",
       "14851             0.0                 0.0  \n",
       "14852             0.0                 0.0  \n",
       "14853             0.0                 0.0  \n",
       "14854             0.0                 0.0  \n",
       "\n",
       "[14855 rows x 145 columns]"
      ]
     },
     "execution_count": 22,
     "metadata": {},
     "output_type": "execute_result"
    }
   ],
   "source": [
    "# Apply MinMaxScaler to scale the data for model training\n",
    "scaler = MinMaxScaler()\n",
    "df_scaled = scaler.fit_transform(df_movies_dum)\n",
    "df_scaled = pd.DataFrame(df_scaled, columns=df_movies_dum.columns)\n",
    "\n",
    "# Display the scaled DataFrame\n",
    "\n",
    "df_scaled"
   ]
  },
  {
   "cell_type": "markdown",
   "metadata": {},
   "source": [
    "<a id=\"5\"></a> <br>\n",
    "# step 4: DBSCAN "
   ]
  },
  {
   "cell_type": "markdown",
   "metadata": {},
   "source": [
    "###### run a loop to get best epsilon value and minpnts"
   ]
  },
  {
   "cell_type": "code",
   "execution_count": 23,
   "metadata": {
    "execution": {
     "iopub.execute_input": "2022-12-07T16:36:39.457619Z",
     "iopub.status.busy": "2022-12-07T16:36:39.456879Z",
     "iopub.status.idle": "2022-12-07T16:37:07.484641Z",
     "shell.execute_reply": "2022-12-07T16:37:07.483657Z",
     "shell.execute_reply.started": "2022-12-07T16:36:39.457550Z"
    }
   },
   "outputs": [
    {
     "name": "stdout",
     "output_type": "stream",
     "text": [
      "For eps = 0.2 For min_samples = 5 Count clusters = 228 The average silhouette_score is : 0.5279735696015463\n",
      "For eps = 0.2 For min_samples = 10 Count clusters = 129 The average silhouette_score is : 0.449427531631811\n",
      "For eps = 0.2 For min_samples = 30 Count clusters = 49 The average silhouette_score is : 0.3096912856472519\n",
      "For eps = 0.5 For min_samples = 5 Count clusters = 297 The average silhouette_score is : 0.6158428604489057\n",
      "For eps = 0.5 For min_samples = 10 Count clusters = 171 The average silhouette_score is : 0.5581954472036961\n",
      "For eps = 0.5 For min_samples = 30 Count clusters = 69 The average silhouette_score is : 0.4395908978429388\n",
      "For eps = 1 For min_samples = 5 Count clusters = 303 The average silhouette_score is : 0.6197731362825976\n",
      "For eps = 1 For min_samples = 10 Count clusters = 176 The average silhouette_score is : 0.5617750734157442\n",
      "For eps = 1 For min_samples = 30 Count clusters = 72 The average silhouette_score is : 0.4458811460892883\n"
     ]
    }
   ],
   "source": [
    "# Define the range of epsilon (eps) and minimum samples (min_samples) parameters for DBSCAN\n",
    "eps_array = [0.2, 0.5, 1]  # List of different epsilon values (the maximum distance between two samples for one to be considered as in the neighborhood of the other)\n",
    "min_samples_array = [5, 10, 30]  # List of different min_samples values (the number of samples in a neighborhood for a point to be considered as a core point)\n",
    "\n",
    "# Iterate over each combination of eps and min_samples\n",
    "for eps in eps_array:\n",
    "    for min_samples in min_samples_array:\n",
    "        # Initialize and fit the DBSCAN model with the current parameters\n",
    "        clusterer = DBSCAN(eps=eps, min_samples=min_samples).fit(df_scaled)\n",
    "        \n",
    "        # Retrieve the cluster labels from the fitted model\n",
    "        cluster_labels = clusterer.labels_\n",
    "        \n",
    "        # Check if the algorithm found only one cluster or marked all points as noise (-1 label for noise)\n",
    "        if len(set(cluster_labels)) == 1:\n",
    "            continue  # Skip this combination as it does not provide meaningful clusters\n",
    "        \n",
    "        # Calculate the silhouette score to evaluate the quality of the clustering\n",
    "        silhouette_avg = silhouette_score(df_scaled, cluster_labels)\n",
    "        \n",
    "        # Print the current parameters, number of clusters, and the silhouette score\n",
    "        print(\"For eps =\", eps,\n",
    "              \"For min_samples =\", min_samples,\n",
    "              \"Count clusters =\", len(set(cluster_labels)),\n",
    "              \"The average silhouette_score is :\", silhouette_avg)\n"
   ]
  },
  {
   "cell_type": "markdown",
   "metadata": {},
   "source": [
    "# DBSCAN With Best Hypterparameters (eps=1, minpnts=5)"
   ]
  },
  {
   "cell_type": "code",
   "execution_count": 24,
   "metadata": {
    "execution": {
     "iopub.execute_input": "2022-12-07T16:37:07.486451Z",
     "iopub.status.busy": "2022-12-07T16:37:07.485997Z",
     "iopub.status.idle": "2022-12-07T16:37:10.741424Z",
     "shell.execute_reply": "2022-12-07T16:37:10.740145Z",
     "shell.execute_reply.started": "2022-12-07T16:37:07.486410Z"
    }
   },
   "outputs": [
    {
     "name": "stdout",
     "output_type": "stream",
     "text": [
      "For eps = 1 For min_samples = 5 Count clusters = 303 The average silhouette_score is : 0.6197731362825976\n"
     ]
    }
   ],
   "source": [
    "dbscan_model = DBSCAN(eps=1, min_samples=5).fit(df_scaled)\n",
    "print(\"For eps =\", 1,\n",
    "      \"For min_samples =\", 5,\n",
    "      \"Count clusters =\", len(set(dbscan_model.labels_)),\n",
    "      \"The average silhouette_score is :\", silhouette_score(df_scaled, dbscan_model.labels_))"
   ]
  },
  {
   "cell_type": "markdown",
   "metadata": {},
   "source": [
    "##### save clusters for recommendations "
   ]
  },
  {
   "cell_type": "code",
   "execution_count": 25,
   "metadata": {
    "execution": {
     "iopub.execute_input": "2022-12-07T16:37:10.743395Z",
     "iopub.status.busy": "2022-12-07T16:37:10.742933Z",
     "iopub.status.idle": "2022-12-07T16:37:10.750695Z",
     "shell.execute_reply": "2022-12-07T16:37:10.749339Z",
     "shell.execute_reply.started": "2022-12-07T16:37:10.743352Z"
    }
   },
   "outputs": [],
   "source": [
    "df_movies['dbscan_clusters'] = dbscan_model.labels_"
   ]
  },
  {
   "cell_type": "code",
   "execution_count": 26,
   "metadata": {},
   "outputs": [
    {
     "data": {
      "text/plain": [
       "dbscan_clusters\n",
       " 0      1397\n",
       " 10     1288\n",
       "-1      1072\n",
       " 5       756\n",
       " 95      662\n",
       "        ... \n",
       " 190       5\n",
       " 270       5\n",
       " 232       5\n",
       " 272       5\n",
       " 189       5\n",
       "Name: count, Length: 303, dtype: int64"
      ]
     },
     "execution_count": 26,
     "metadata": {},
     "output_type": "execute_result"
    }
   ],
   "source": [
    "df_movies['dbscan_clusters'].value_counts()"
   ]
  },
  {
   "cell_type": "markdown",
   "metadata": {},
   "source": [
    "<a id=\"6\"></a> <br>\n",
    "# Step 5: Movie Recommendation Function"
   ]
  },
  {
   "cell_type": "markdown",
   "metadata": {},
   "source": [
    "#### Our data is ready to use the clustering results to try and recommend a movie by the name of the one you like"
   ]
  },
  {
   "cell_type": "code",
   "execution_count": 27,
   "metadata": {
    "execution": {
     "iopub.execute_input": "2022-12-07T16:37:10.752815Z",
     "iopub.status.busy": "2022-12-07T16:37:10.752432Z",
     "iopub.status.idle": "2022-12-07T16:37:10.761746Z",
     "shell.execute_reply": "2022-12-07T16:37:10.760529Z",
     "shell.execute_reply.started": "2022-12-07T16:37:10.752784Z"
    }
   },
   "outputs": [],
   "source": [
    "import random\n",
    "\n",
    "def recommend_movie(movie_name: str):\n",
    "    # Convert the input movie name to lowercase for case-insensitive matching\n",
    "    movie_name = movie_name.lower()\n",
    "\n",
    "    # Create a new column 'name' with lowercase movie names for comparison\n",
    "    df_movies['name'] = df_movies.index.str.lower()\n",
    "\n",
    "    # Find the movie that matches the input name\n",
    "    movie = df_movies[df_movies['name'].str.contains(movie_name, na=False)]\n",
    "\n",
    "    if not movie.empty:\n",
    "        # Get the cluster label of the input movie\n",
    "        cluster = movie['dbscan_clusters'].values[0]\n",
    "\n",
    "        # Get all movies in the same cluster\n",
    "        cluster_movies = df_movies[df_movies['dbscan_clusters'] == cluster]\n",
    "\n",
    "        # If there are more than 5 movies in the cluster, randomly select 5\n",
    "        if len(cluster_movies) >= 5:\n",
    "            recommended_movies = random.sample(list(cluster_movies.index), 5)\n",
    "        else:\n",
    "            # If fewer than 5, return all the movies in the cluster\n",
    "            recommended_movies = list(cluster_movies.index)\n",
    "\n",
    "        # Print the recommended movies\n",
    "        print('--- We can recommend you these movies ---')\n",
    "        for m in recommended_movies:\n",
    "            print(m)\n",
    "    else:\n",
    "        print('Movie not found in the database.')\n"
   ]
  },
  {
   "cell_type": "code",
   "execution_count": 28,
   "metadata": {
    "execution": {
     "iopub.execute_input": "2022-12-07T16:37:10.763655Z",
     "iopub.status.busy": "2022-12-07T16:37:10.763337Z",
     "iopub.status.idle": "2022-12-07T16:38:23.429558Z",
     "shell.execute_reply": "2022-12-07T16:38:23.428365Z",
     "shell.execute_reply.started": "2022-12-07T16:37:10.763626Z"
    }
   },
   "outputs": [
    {
     "name": "stdout",
     "output_type": "stream",
     "text": [
      "\n",
      "\n",
      "\n",
      "--- We can recommend you these movies ---\n",
      "Tales from the Loop\n",
      "Spawn\n",
      "Black Summer\n",
      "Mortal Kombat: Conquest\n",
      "Trollhunters: Tales of Arcadia\n"
     ]
    }
   ],
   "source": [
    "s = input('Input movie name: ')\n",
    "\n",
    "print(\"\\n\\n\")\n",
    "recommend_movie(s)"
   ]
  },
  {
   "cell_type": "code",
   "execution_count": 29,
   "metadata": {},
   "outputs": [
    {
     "name": "stdout",
     "output_type": "stream",
     "text": [
      "\n",
      "\n",
      "\n",
      "--- We can recommend you these movies ---\n",
      "The Originals\n",
      "Preacher\n",
      "DMZ\n",
      "HAPPY!\n",
      "Mortal Kombat: Conquest\n"
     ]
    }
   ],
   "source": [
    "s = input('Input movie name: ')\n",
    "\n",
    "print(\"\\n\\n\")\n",
    "recommend_movie(s)"
   ]
  },
  {
   "cell_type": "code",
   "execution_count": 30,
   "metadata": {},
   "outputs": [
    {
     "name": "stdout",
     "output_type": "stream",
     "text": [
      "\n",
      "\n",
      "\n",
      "--- We can recommend you these movies ---\n",
      "Goosebumps\n",
      "The Plot Against America\n",
      "The 100\n",
      "DOTA: Dragon's Blood\n",
      "Eureka\n"
     ]
    }
   ],
   "source": [
    "s = input('Input movie name: ')\n",
    "\n",
    "print(\"\\n\\n\")\n",
    "recommend_movie(s)"
   ]
  },
  {
   "cell_type": "markdown",
   "metadata": {},
   "source": [
    "# Streamlit App (so save df_movies dataset)"
   ]
  },
  {
   "cell_type": "code",
   "execution_count": 32,
   "metadata": {},
   "outputs": [],
   "source": [
    "df_movies.to_csv(\"clustered_movies.csv\", index=False)"
   ]
  }
 ],
 "metadata": {
  "kernelspec": {
   "display_name": "base",
   "language": "python",
   "name": "python3"
  },
  "language_info": {
   "codemirror_mode": {
    "name": "ipython",
    "version": 3
   },
   "file_extension": ".py",
   "mimetype": "text/x-python",
   "name": "python",
   "nbconvert_exporter": "python",
   "pygments_lexer": "ipython3",
   "version": "3.12.4"
  }
 },
 "nbformat": 4,
 "nbformat_minor": 4
}
